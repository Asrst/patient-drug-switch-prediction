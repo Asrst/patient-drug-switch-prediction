{
 "cells": [
  {
   "cell_type": "code",
   "execution_count": 1,
   "metadata": {
    "_cell_guid": "b1076dfc-b9ad-4769-8c92-a6c4dae69d19",
    "_uuid": "8f2839f25d086af736a60e9eeb907d3b93b6e0e5"
   },
   "outputs": [
    {
     "name": "stdout",
     "output_type": "stream",
     "text": [
      "/kaggle/input/patient-switch-featurepipeline/test_feature_names.csv\n",
      "/kaggle/input/patient-switch-featurepipeline/__results__.html\n",
      "/kaggle/input/patient-switch-featurepipeline/train_features.npz\n",
      "/kaggle/input/patient-switch-featurepipeline/custom.css\n",
      "/kaggle/input/patient-switch-featurepipeline/__notebook__.ipynb\n",
      "/kaggle/input/patient-switch-featurepipeline/test_features.npz\n",
      "/kaggle/input/patient-switch-featurepipeline/__output__.json\n",
      "/kaggle/input/patient-switch-featurepipeline/train_fitness_values.csv\n",
      "/kaggle/input/patient-switch-featurepipeline/train_feature_names.csv\n",
      "/kaggle/input/drug-switch-preprocessing/__results__.html\n",
      "/kaggle/input/drug-switch-preprocessing/custom.css\n",
      "/kaggle/input/drug-switch-preprocessing/train.parquet\n",
      "/kaggle/input/drug-switch-preprocessing/__notebook__.ipynb\n",
      "/kaggle/input/drug-switch-preprocessing/train_labels.parquet\n",
      "/kaggle/input/drug-switch-preprocessing/test.parquet\n",
      "/kaggle/input/drug-switch-preprocessing/__output__.json\n",
      "/kaggle/input/drug-switch-classification/DS_ML_Recruitment_V2.0/_DS_Store\n",
      "/kaggle/input/drug-switch-classification/DS_ML_Recruitment_V2.0/fitness_values_2.csv\n",
      "/kaggle/input/drug-switch-classification/DS_ML_Recruitment_V2.0/train_data.csv\n",
      "/kaggle/input/drug-switch-classification/DS_ML_Recruitment_V2.0/test_data.csv\n",
      "/kaggle/input/drug-switch-classification/DS_ML_Recruitment_V2.0/train_labels.csv\n",
      "/kaggle/input/drug-switch-classification/DS_ML_Recruitment_V2.0/Sample Submission.csv\n"
     ]
    }
   ],
   "source": [
    "import warnings\n",
    "warnings.filterwarnings('ignore')\n",
    "import numpy as np # linear algebra\n",
    "import pandas as pd # data processing, CSV file I/O (e.g. pd.read_csv)\n",
    "from sklearn.model_selection import KFold, StratifiedKFold\n",
    "from scipy import sparse\n",
    "import time\n",
    "import os\n",
    "data_paths = {}\n",
    "for dirname, _, filenames in os.walk('/kaggle/input'):\n",
    "    for filename in filenames:\n",
    "        data_paths[filename] = os.path.join(dirname, filename)\n",
    "        print(os.path.join(dirname, filename))"
   ]
  },
  {
   "cell_type": "code",
   "execution_count": 2,
   "metadata": {},
   "outputs": [],
   "source": [
    "def save_data(data, path):\n",
    "    return sparse.save_npz(path, data)\n",
    "\n",
    "def load_data(path):\n",
    "    return sparse.load_npz(path)"
   ]
  },
  {
   "cell_type": "code",
   "execution_count": 3,
   "metadata": {},
   "outputs": [
    {
     "name": "stdout",
     "output_type": "stream",
     "text": [
      "(14446880, 7) Index(['patient_id', 'event_name', 'event_time', 'specialty', 'plan_type',\n",
      "       'patient_payment', 'id'],\n",
      "      dtype='object')\n"
     ]
    }
   ],
   "source": [
    "train_df = pd.read_parquet(data_paths['train.parquet'])\n",
    "print(train_df.shape, train_df.columns)"
   ]
  },
  {
   "cell_type": "code",
   "execution_count": 4,
   "metadata": {},
   "outputs": [
    {
     "name": "stdout",
     "output_type": "stream",
     "text": [
      "(16683, 3) Index(['patient_id', 'outcome_flag', 'id'], dtype='object')\n"
     ]
    }
   ],
   "source": [
    "target_df = pd.read_parquet(data_paths['train_labels.parquet'])\n",
    "print(target_df.shape, target_df.columns)"
   ]
  },
  {
   "cell_type": "code",
   "execution_count": 5,
   "metadata": {},
   "outputs": [
    {
     "data": {
      "text/plain": [
       "(16683, 41525)"
      ]
     },
     "execution_count": 5,
     "metadata": {},
     "output_type": "execute_result"
    }
   ],
   "source": [
    "train_features = load_data(data_paths['train_features.npz'])\n",
    "train_features.data = np.nan_to_num(train_features.data, copy=False)\n",
    "train_features = train_features.tocsr()\n",
    "train_features.shape"
   ]
  },
  {
   "cell_type": "code",
   "execution_count": 6,
   "metadata": {},
   "outputs": [
    {
     "data": {
      "text/plain": [
       "(16683,)"
      ]
     },
     "execution_count": 6,
     "metadata": {},
     "output_type": "execute_result"
    }
   ],
   "source": [
    "train_labels= target_df['outcome_flag'].values\n",
    "train_labels.shape"
   ]
  },
  {
   "cell_type": "code",
   "execution_count": 7,
   "metadata": {},
   "outputs": [
    {
     "name": "stdout",
     "output_type": "stream",
     "text": [
      "(6256130, 7) Index(['patient_id', 'event_name', 'event_time', 'specialty', 'plan_type',\n",
      "       'patient_payment', 'id'],\n",
      "      dtype='object')\n"
     ]
    }
   ],
   "source": [
    "test_df = pd.read_parquet(data_paths['test.parquet'])\n",
    "print(test_df.shape, test_df.columns)"
   ]
  },
  {
   "cell_type": "code",
   "execution_count": 8,
   "metadata": {},
   "outputs": [
    {
     "data": {
      "text/plain": [
       "(7148, 41525)"
      ]
     },
     "execution_count": 8,
     "metadata": {},
     "output_type": "execute_result"
    }
   ],
   "source": [
    "test_features = load_data(data_paths['test_features.npz'])\n",
    "test_features.data = np.nan_to_num(test_features.data, copy=False)\n",
    "test_features = test_features.tocsr()\n",
    "test_features.shape"
   ]
  },
  {
   "cell_type": "markdown",
   "metadata": {},
   "source": [
    "### Modelling - LGBM"
   ]
  },
  {
   "cell_type": "code",
   "execution_count": 9,
   "metadata": {},
   "outputs": [],
   "source": [
    "import lightgbm as lgb\n",
    "from sklearn.model_selection import train_test_split\n",
    "\n",
    "param = {\n",
    "    'bagging_freq': 5,\n",
    "    'bagging_fraction': 0.335,\n",
    "    'boost_from_average':'false',\n",
    "    'boost': 'gbdt',\n",
    "    'feature_fraction': 0.1,\n",
    "    'learning_rate': 0.01,\n",
    "    'max_depth': 97,\n",
    "    'metric':'auc',\n",
    "    'min_data_in_leaf': 61,\n",
    "    'min_sum_hessian_in_leaf': 10.0,\n",
    "    'num_leaves': 19,\n",
    "    'num_threads': 8,\n",
    "    # 'is_unbalance': True,\n",
    "    'scale_pos_weight': 11,\n",
    "    'tree_learner': 'serial',\n",
    "    'objective': 'binary',\n",
    "    'verbosity': -1,\n",
    "    'reg_alpha': 50,  # L1 weight reg\n",
    "    'reg_lambda': 0,  # L2 weight reg\n",
    "}"
   ]
  },
  {
   "cell_type": "code",
   "execution_count": 10,
   "metadata": {},
   "outputs": [],
   "source": [
    "# imp_df = pd.read_csv(data_paths['kfold_feature_importance.csv'])\n",
    "# imp_df.sort_values([\"importance\"], inplace = True)\n",
    "# imp_df.reset_index(drop = 1)\n",
    "# imp_df['importance'].hist(bins = 50)\n",
    "# imp_feat_idx = sorted(imp_df[imp_df['importance'] > 0]['0'].tolist())\n",
    "# len(imp_feat_idx)"
   ]
  },
  {
   "cell_type": "code",
   "execution_count": 11,
   "metadata": {},
   "outputs": [],
   "source": [
    "# train_features = train_features[:,imp_feat_idx]\n",
    "# test_features = test_features[:,imp_feat_idx]\n",
    "# train_features.shape, test_features.shape"
   ]
  },
  {
   "cell_type": "code",
   "execution_count": 12,
   "metadata": {},
   "outputs": [
    {
     "name": "stdout",
     "output_type": "stream",
     "text": [
      "\n",
      "Starting Fold 1/10\n",
      "Training until validation scores don't improve for 250 rounds\n",
      "[500]\ttraining's auc: 0.871326\tvalid_1's auc: 0.79542\n",
      "[1000]\ttraining's auc: 0.90496\tvalid_1's auc: 0.807521\n",
      "[1500]\ttraining's auc: 0.926557\tvalid_1's auc: 0.811915\n",
      "[2000]\ttraining's auc: 0.943595\tvalid_1's auc: 0.816134\n",
      "[2500]\ttraining's auc: 0.954906\tvalid_1's auc: 0.818579\n",
      "Early stopping, best iteration is:\n",
      "[2414]\ttraining's auc: 0.953445\tvalid_1's auc: 0.819067\n",
      "\n",
      "Starting Fold 2/10\n",
      "Training until validation scores don't improve for 250 rounds\n",
      "[500]\ttraining's auc: 0.869991\tvalid_1's auc: 0.793961\n",
      "[1000]\ttraining's auc: 0.904866\tvalid_1's auc: 0.802413\n",
      "[1500]\ttraining's auc: 0.927967\tvalid_1's auc: 0.809029\n",
      "[2000]\ttraining's auc: 0.94377\tvalid_1's auc: 0.811302\n",
      "Early stopping, best iteration is:\n",
      "[1770]\ttraining's auc: 0.936768\tvalid_1's auc: 0.811806\n",
      "\n",
      "Starting Fold 3/10\n",
      "Training until validation scores don't improve for 250 rounds\n",
      "[500]\ttraining's auc: 0.869495\tvalid_1's auc: 0.818436\n",
      "[1000]\ttraining's auc: 0.902118\tvalid_1's auc: 0.831289\n",
      "[1500]\ttraining's auc: 0.925922\tvalid_1's auc: 0.835729\n",
      "[2000]\ttraining's auc: 0.942313\tvalid_1's auc: 0.839289\n",
      "[2500]\ttraining's auc: 0.954048\tvalid_1's auc: 0.840406\n",
      "Early stopping, best iteration is:\n",
      "[2642]\ttraining's auc: 0.956967\tvalid_1's auc: 0.840859\n",
      "\n",
      "Starting Fold 4/10\n",
      "Training until validation scores don't improve for 250 rounds\n",
      "[500]\ttraining's auc: 0.870355\tvalid_1's auc: 0.805821\n",
      "[1000]\ttraining's auc: 0.903864\tvalid_1's auc: 0.816926\n",
      "[1500]\ttraining's auc: 0.926556\tvalid_1's auc: 0.822721\n",
      "[2000]\ttraining's auc: 0.943139\tvalid_1's auc: 0.824908\n",
      "[2500]\ttraining's auc: 0.954682\tvalid_1's auc: 0.82799\n",
      "Early stopping, best iteration is:\n",
      "[2416]\ttraining's auc: 0.952934\tvalid_1's auc: 0.828365\n",
      "\n",
      "Starting Fold 5/10\n",
      "Training until validation scores don't improve for 250 rounds\n",
      "[500]\ttraining's auc: 0.868966\tvalid_1's auc: 0.830386\n",
      "[1000]\ttraining's auc: 0.904318\tvalid_1's auc: 0.835668\n",
      "[1500]\ttraining's auc: 0.927079\tvalid_1's auc: 0.839059\n",
      "Early stopping, best iteration is:\n",
      "[1650]\ttraining's auc: 0.932283\tvalid_1's auc: 0.839612\n",
      "\n",
      "Starting Fold 6/10\n",
      "Training until validation scores don't improve for 250 rounds\n",
      "[500]\ttraining's auc: 0.869595\tvalid_1's auc: 0.826903\n",
      "[1000]\ttraining's auc: 0.904494\tvalid_1's auc: 0.83869\n",
      "[1500]\ttraining's auc: 0.927594\tvalid_1's auc: 0.841155\n",
      "[2000]\ttraining's auc: 0.944129\tvalid_1's auc: 0.84296\n",
      "[2500]\ttraining's auc: 0.955264\tvalid_1's auc: 0.844531\n",
      "[3000]\ttraining's auc: 0.964319\tvalid_1's auc: 0.844328\n",
      "Early stopping, best iteration is:\n",
      "[2872]\ttraining's auc: 0.962101\tvalid_1's auc: 0.845124\n",
      "\n",
      "Starting Fold 7/10\n",
      "Training until validation scores don't improve for 250 rounds\n",
      "[500]\ttraining's auc: 0.870549\tvalid_1's auc: 0.824983\n",
      "[1000]\ttraining's auc: 0.904019\tvalid_1's auc: 0.832363\n",
      "[1500]\ttraining's auc: 0.927276\tvalid_1's auc: 0.837185\n",
      "[2000]\ttraining's auc: 0.943401\tvalid_1's auc: 0.840676\n",
      "[2500]\ttraining's auc: 0.95483\tvalid_1's auc: 0.842368\n",
      "[3000]\ttraining's auc: 0.963363\tvalid_1's auc: 0.843776\n",
      "Early stopping, best iteration is:\n",
      "[2809]\ttraining's auc: 0.960501\tvalid_1's auc: 0.844456\n",
      "\n",
      "Starting Fold 8/10\n",
      "Training until validation scores don't improve for 250 rounds\n",
      "[500]\ttraining's auc: 0.868071\tvalid_1's auc: 0.821824\n",
      "[1000]\ttraining's auc: 0.903677\tvalid_1's auc: 0.834248\n",
      "[1500]\ttraining's auc: 0.92737\tvalid_1's auc: 0.83684\n",
      "[2000]\ttraining's auc: 0.942327\tvalid_1's auc: 0.837655\n",
      "[2500]\ttraining's auc: 0.954285\tvalid_1's auc: 0.838445\n",
      "[3000]\ttraining's auc: 0.962613\tvalid_1's auc: 0.839905\n",
      "Early stopping, best iteration is:\n",
      "[2824]\ttraining's auc: 0.959915\tvalid_1's auc: 0.840161\n",
      "\n",
      "Starting Fold 9/10\n",
      "Training until validation scores don't improve for 250 rounds\n",
      "[500]\ttraining's auc: 0.869006\tvalid_1's auc: 0.82706\n",
      "[1000]\ttraining's auc: 0.903299\tvalid_1's auc: 0.839358\n",
      "[1500]\ttraining's auc: 0.925987\tvalid_1's auc: 0.846347\n",
      "[2000]\ttraining's auc: 0.942497\tvalid_1's auc: 0.849101\n",
      "[2500]\ttraining's auc: 0.954571\tvalid_1's auc: 0.850694\n",
      "[3000]\ttraining's auc: 0.963601\tvalid_1's auc: 0.851892\n",
      "[3500]\ttraining's auc: 0.969935\tvalid_1's auc: 0.853821\n",
      "[4000]\ttraining's auc: 0.974323\tvalid_1's auc: 0.85457\n",
      "Early stopping, best iteration is:\n",
      "[3930]\ttraining's auc: 0.973892\tvalid_1's auc: 0.854996\n",
      "\n",
      "Starting Fold 10/10\n",
      "Training until validation scores don't improve for 250 rounds\n",
      "[500]\ttraining's auc: 0.870196\tvalid_1's auc: 0.811668\n",
      "[1000]\ttraining's auc: 0.904454\tvalid_1's auc: 0.822002\n",
      "[1500]\ttraining's auc: 0.927102\tvalid_1's auc: 0.826268\n",
      "[2000]\ttraining's auc: 0.943224\tvalid_1's auc: 0.827774\n",
      "Early stopping, best iteration is:\n",
      "[2089]\ttraining's auc: 0.945502\tvalid_1's auc: 0.828347\n"
     ]
    }
   ],
   "source": [
    "# define kFold\n",
    "n_splits = 10\n",
    "skf = StratifiedKFold(n_splits=n_splits, shuffle=True, random_state=2019)\n",
    "\n",
    "# to store\n",
    "y_test_pred = np.zeros(test_features.shape[0])\n",
    "feature_importance_df = pd.DataFrame(np.arange(train_features.shape[1]))\n",
    "feature_importance_df[\"importance\"] = 0\n",
    "\n",
    "# train, validate & predict on test\n",
    "start = time.time()\n",
    "for fold_, (trn_idx, val_idx) in enumerate(skf.split(train_features, train_labels)):\n",
    "    print(\"\\nStarting Fold {}/{}\".format(fold_+1, n_splits))\n",
    "    \n",
    "    trn_data = lgb.Dataset(train_features[trn_idx,:], label=train_labels[trn_idx])\n",
    "    val_data = lgb.Dataset(train_features[val_idx,:], label=train_labels[val_idx])\n",
    "\n",
    "    num_round = 10000\n",
    "    clf = lgb.train(param, trn_data, num_round, valid_sets = [trn_data, val_data], verbose_eval=500, \n",
    "                    early_stopping_rounds = 250)\n",
    "    \n",
    "    feature_importance_df['importance'] += clf.feature_importance()/n_splits    \n",
    "    y_test_pred += clf.predict(test_features, num_iteration=clf.best_iteration)/n_splits\n",
    "    \n",
    "feature_importance_df.to_csv('kfold_feature_importance.csv', index = False)"
   ]
  },
  {
   "cell_type": "code",
   "execution_count": 13,
   "metadata": {},
   "outputs": [
    {
     "data": {
      "text/plain": [
       "<matplotlib.axes._subplots.AxesSubplot at 0x7f443c26bc18>"
      ]
     },
     "execution_count": 13,
     "metadata": {},
     "output_type": "execute_result"
    },
    {
     "data": {
      "image/png": "[encoded data removed]",
      "text/plain": [
       "<Figure size 432x288 with 1 Axes>"
      ]
     },
     "metadata": {
      "needs_background": "light"
     },
     "output_type": "display_data"
    }
   ],
   "source": [
    "feature_importance_df.sort_values([\"importance\"], inplace = True)\n",
    "feature_importance_df.reset_index(drop = 1)\n",
    "feature_importance_df['importance'].hist(bins = 50)"
   ]
  },
  {
   "cell_type": "code",
   "execution_count": 14,
   "metadata": {},
   "outputs": [],
   "source": [
    "pred_df = pd.DataFrame(data = sorted(test_df['id'].unique()), columns = ['id'])\n",
    "pred_df['label'] = y_test_pred"
   ]
  },
  {
   "cell_type": "code",
   "execution_count": 15,
   "metadata": {},
   "outputs": [
    {
     "data": {
      "text/html": [
       "<div>\n",
       "<style scoped>\n",
       "    .dataframe tbody tr th:only-of-type {\n",
       "        vertical-align: middle;\n",
       "    }\n",
       "\n",
       "    .dataframe tbody tr th {\n",
       "        vertical-align: top;\n",
       "    }\n",
       "\n",
       "    .dataframe thead th {\n",
       "        text-align: right;\n",
       "    }\n",
       "</style>\n",
       "<table border=\"1\" class=\"dataframe\">\n",
       "  <thead>\n",
       "    <tr style=\"text-align: right;\">\n",
       "      <th></th>\n",
       "      <th>patient_id</th>\n",
       "      <th>outcome_flag</th>\n",
       "    </tr>\n",
       "  </thead>\n",
       "  <tbody>\n",
       "    <tr>\n",
       "      <th>0</th>\n",
       "      <td>patient_2</td>\n",
       "      <td>0.588378</td>\n",
       "    </tr>\n",
       "    <tr>\n",
       "      <th>1</th>\n",
       "      <td>patient_3</td>\n",
       "      <td>0.607473</td>\n",
       "    </tr>\n",
       "    <tr>\n",
       "      <th>2</th>\n",
       "      <td>patient_5</td>\n",
       "      <td>0.887084</td>\n",
       "    </tr>\n",
       "    <tr>\n",
       "      <th>3</th>\n",
       "      <td>patient_8</td>\n",
       "      <td>0.052613</td>\n",
       "    </tr>\n",
       "    <tr>\n",
       "      <th>4</th>\n",
       "      <td>patient_14</td>\n",
       "      <td>0.865316</td>\n",
       "    </tr>\n",
       "  </tbody>\n",
       "</table>\n",
       "</div>"
      ],
      "text/plain": [
       "   patient_id  outcome_flag\n",
       "0   patient_2      0.588378\n",
       "1   patient_3      0.607473\n",
       "2   patient_5      0.887084\n",
       "3   patient_8      0.052613\n",
       "4  patient_14      0.865316"
      ]
     },
     "execution_count": 15,
     "metadata": {},
     "output_type": "execute_result"
    }
   ],
   "source": [
    "sub_df = pd.read_csv(data_paths['Sample Submission.csv'])\n",
    "sub_df['id'] = sub_df['patient_id'].apply(lambda x:int(x.split('_')[1]))\n",
    "sub_df = sub_df.merge(pred_df, on='id', how='left')\n",
    "sub_df = sub_df.drop(['outcome_flag', 'id'], axis = 1)\n",
    "sub_df.columns = ['patient_id', 'outcome_flag']\n",
    "sub_df.head()"
   ]
  },
  {
   "cell_type": "code",
   "execution_count": 16,
   "metadata": {},
   "outputs": [
    {
     "data": {
      "text/plain": [
       "False    4636\n",
       "True     2512\n",
       "Name: outcome_flag, dtype: int64"
      ]
     },
     "execution_count": 16,
     "metadata": {},
     "output_type": "execute_result"
    }
   ],
   "source": [
    "pd.Series(sub_df['outcome_flag'] >= 0.5).value_counts()"
   ]
  },
  {
   "cell_type": "code",
   "execution_count": 17,
   "metadata": {},
   "outputs": [
    {
     "data": {
      "text/html": [
       "<a href='BestScore.xlsx' target='_blank'>BestScore.xlsx</a><br>"
      ],
      "text/plain": [
       "/kaggle/working/BestScore.xlsx"
      ]
     },
     "execution_count": 17,
     "metadata": {},
     "output_type": "execute_result"
    }
   ],
   "source": [
    "from IPython.display import FileLink\n",
    "\n",
    "# xlsx\n",
    "filename = \"BestScore.xlsx\"\n",
    "sub_df.to_excel(filename, index = False)\n",
    "FileLink(filename)"
   ]
  },
  {
   "cell_type": "code",
   "execution_count": 18,
   "metadata": {},
   "outputs": [],
   "source": [
    "#08 - pos = 70\n",
    "#09 - pos = 25\n",
    "#10 - pos = 16, num_leaves = 16, ff = 0.052, md:97\n",
    "#12 - pos = 11"
   ]
  }
 ],
 "metadata": {
  "kernelspec": {
   "display_name": "Python 3",
   "language": "python",
   "name": "python3"
  },
  "language_info": {
   "codemirror_mode": {
    "name": "ipython",
    "version": 3
   },
   "file_extension": ".py",
   "mimetype": "text/x-python",
   "name": "python",
   "nbconvert_exporter": "python",
   "pygments_lexer": "ipython3",
   "version": "3.7.4"
  }
 },
 "nbformat": 4,
 "nbformat_minor": 1
}
